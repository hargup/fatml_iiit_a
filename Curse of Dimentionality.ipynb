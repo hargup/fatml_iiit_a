{
 "cells": [
  {
   "cell_type": "code",
   "execution_count": 2,
   "metadata": {
    "collapsed": false
   },
   "outputs": [],
   "source": [
    "%matplotlib inline"
   ]
  },
  {
   "cell_type": "code",
   "execution_count": 72,
   "metadata": {
    "collapsed": false,
    "scrolled": true
   },
   "outputs": [],
   "source": [
    "import numpy as np\n",
    "import matplotlib.pyplot as plt\n",
    "from itertools import combinations\n",
    "import random"
   ]
  },
  {
   "cell_type": "code",
   "execution_count": 37,
   "metadata": {
    "collapsed": true
   },
   "outputs": [],
   "source": [
    "def dist(x, y):\n",
    "    return np.sqrt(sum(abs(x-y)**2))"
   ]
  },
  {
   "cell_type": "code",
   "execution_count": 46,
   "metadata": {
    "collapsed": true
   },
   "outputs": [],
   "source": [
    "def avg_dist(dim, n):\n",
    "    points = np.random.uniform(size=(n, dim))\n",
    "    # print(points)\n",
    "    return [dist(x, y) for x,y in combinations(points, 2)]\n",
    "    "
   ]
  },
  {
   "cell_type": "code",
   "execution_count": 53,
   "metadata": {
    "collapsed": false
   },
   "outputs": [
    {
     "data": {
      "text/plain": [
       "(array([  6.20000000e+01,   6.31000000e+02,   3.47500000e+03,\n",
       "          1.03230000e+04,   1.53770000e+04,   1.06780000e+04,\n",
       "          3.62900000e+03,   6.25000000e+02,   4.80000000e+01,\n",
       "          2.00000000e+00]),\n",
       " array([ 1.61626408,  1.8279182 ,  2.03957232,  2.25122643,  2.46288055,\n",
       "         2.67453467,  2.88618879,  3.0978429 ,  3.30949702,  3.52115114,\n",
       "         3.73280526]),\n",
       " <a list of 10 Patch objects>)"
      ]
     },
     "execution_count": 53,
     "metadata": {},
     "output_type": "execute_result"
    },
    {
     "data": {
      "image/png": "[encoded data removed]",
      "text/plain": [
       "<matplotlib.figure.Figure at 0x7f70e9763d90>"
      ]
     },
     "metadata": {},
     "output_type": "display_data"
    }
   ],
   "source": [
    "plt.hist(avg_dist(5, 300), color='b', alpha=0.5); plt.hist(avg_dist(10, 300), color='g', alpha=0.5); plt.hist(avg_dist(20, 300), color='y', alpha=0.5); plt.hist(avg_dist(40, 300), color='r', alpha=0.5)"
   ]
  },
  {
   "cell_type": "markdown",
   "metadata": {},
   "source": [
    "The average distance between any two points is rather going up, so why did the professor said that any two points are harder to distinguish in kNN?\n",
    "\n",
    "Okay, the wikipedia article says that the ratio to nearest point to the fartest point decreases, what I can do is take 10 random points, take distance from every other point, take average and plot the distribution"
   ]
  },
  {
   "cell_type": "code",
   "execution_count": 73,
   "metadata": {
    "collapsed": false
   },
   "outputs": [
    {
     "data": {
      "text/plain": [
       "[array([ 0.59379664,  0.6814134 ,  0.1410733 ,  0.59538507,  0.88003916]),\n",
       " array([ 0.28201151,  0.3316525 ,  0.64449708,  0.85374408,  0.83368782]),\n",
       " array([ 0.04504877,  0.74018673,  0.72565317,  0.28088308,  0.65725525]),\n",
       " array([ 0.74424945,  0.55976872,  0.80842772,  0.36826697,  0.64305647]),\n",
       " array([ 0.41693764,  0.79605819,  0.46381505,  0.48339377,  0.86176544])]"
      ]
     },
     "execution_count": 73,
     "metadata": {},
     "output_type": "execute_result"
    }
   ],
   "source": [
    "points = np.random.uniform(size=(n, dim))\n",
    "random.sample(points, 5)"
   ]
  },
  {
   "cell_type": "code",
   "execution_count": 71,
   "metadata": {
    "collapsed": false
   },
   "outputs": [],
   "source": [
    "np.random.choice?"
   ]
  },
  {
   "cell_type": "code",
   "execution_count": 74,
   "metadata": {
    "collapsed": true
   },
   "outputs": [],
   "source": [
    "def distance_distribution(dim, n, k):\n",
    "    points = np.random.uniform(size=(n, dim))\n",
    "    k_p = random.sample(points, k)\n",
    "    distri = np.zeros(n)\n",
    "    for p in k_p:\n",
    "        distances = [dist(x, p) for x in points]\n",
    "        distances.sort()\n",
    "        distri = distri + np.array(distances)\n",
    "    return distri/k    "
   ]
  },
  {
   "cell_type": "code",
   "execution_count": 85,
   "metadata": {
    "collapsed": false
   },
   "outputs": [
    {
     "name": "stdout",
     "output_type": "stream",
     "text": [
      "dim: 4, ratio: 0.124871715705\n",
      "dim: 8, ratio: 0.287808277623\n",
      "dim: 16, ratio: 0.417622276949\n",
      "dim: 32, ratio: 0.56230793566\n",
      "dim: 64, ratio: 0.665390131417\n",
      "dim: 128, ratio: 0.756480470906\n"
     ]
    },
    {
     "data": {
      "image/png": "[encoded data removed]",
      "text/plain": [
       "<matplotlib.figure.Figure at 0x7f70e173db10>"
      ]
     },
     "metadata": {},
     "output_type": "display_data"
    }
   ],
   "source": [
    "for d, c in zip([4, 8, 16, 32, 64, 128], ['b', 'g', 'r', 'y', 'orange', 'violet']):\n",
    "    distri = distance_distribution(d, 300, 20)\n",
    "    plt.hist(distri, bins=100, alpha=0.2, color=c)\n",
    "    print(\"dim: {}, ratio: {}\".format(d, distri[1]/distri[-1]))"
   ]
  },
  {
   "cell_type": "markdown",
   "metadata": {},
   "source": [
    "As we increase the dimention, the ratio between the nearest point and the farthest point approaches 1, that means it becomes harder and harder to distinguish between them using only distance. Distnace looses its \"usefullness\" has the number of dimentions increases."
   ]
  }
 ],
 "metadata": {
  "kernelspec": {
   "display_name": "Python 2",
   "language": "python",
   "name": "python2"
  },
  "language_info": {
   "codemirror_mode": {
    "name": "ipython",
    "version": 2
   },
   "file_extension": ".py",
   "mimetype": "text/x-python",
   "name": "python",
   "nbconvert_exporter": "python",
   "pygments_lexer": "ipython2",
   "version": "2.7.12"
  }
 },
 "nbformat": 4,
 "nbformat_minor": 0
}
